{
 "cells": [
  {
   "cell_type": "markdown",
   "metadata": {},
   "source": [
    "In this notebook, we will use Spark APIs to implement [Matrix Factorizationan and Alternating Least Squares](https://blog.insightdatascience.com/explicit-matrix-factorization-als-sgd-and-all-that-jazz-b00e4d9b21ea) (ALS) algorithm and predict the ratings for the movies in [MovieLens small dataset](https://grouplens.org/datasets/movielens/latest/). The approach used here can be applied to other rating datasets as well. **This notebook has to run in Spark environment.**"
   ]
  },
  {
   "cell_type": "code",
   "execution_count": 1,
   "metadata": {
    "collapsed": true
   },
   "outputs": [],
   "source": [
    "import numpy as np\n",
    "import pandas as pd\n",
    "import seaborn as sns\n",
    "import matplotlib.pyplot as plt\n",
    "import time"
   ]
  },
  {
   "cell_type": "markdown",
   "metadata": {},
   "source": [
    "## Data Exploration"
   ]
  },
  {
   "cell_type": "markdown",
   "metadata": {},
   "source": [
    "Let's load the data and do a quick inspection."
   ]
  },
  {
   "cell_type": "code",
   "execution_count": 2,
   "metadata": {
    "collapsed": true
   },
   "outputs": [],
   "source": [
    "movies = spark.read.load(\"ml-latest-small/movies.csv\", format='csv', header = True)\n",
    "ratings = spark.read.load(\"ml-latest-small/ratings.csv\", format='csv', header = True)\n",
    "links = spark.read.load(\"ml-latest-small/links.csv\", format='csv', header = True)\n",
    "tags = spark.read.load(\"ml-latest-small/tags.csv\", format='csv', header = True)"
   ]
  },
  {
   "cell_type": "code",
   "execution_count": 3,
   "metadata": {},
   "outputs": [
    {
     "name": "stdout",
     "output_type": "stream",
     "text": [
      "+-------+--------------------+--------------------+\n",
      "|movieId|               title|              genres|\n",
      "+-------+--------------------+--------------------+\n",
      "|      1|    Toy Story (1995)|Adventure|Animati...|\n",
      "|      2|      Jumanji (1995)|Adventure|Childre...|\n",
      "|      3|Grumpier Old Men ...|      Comedy|Romance|\n",
      "|      4|Waiting to Exhale...|Comedy|Drama|Romance|\n",
      "|      5|Father of the Bri...|              Comedy|\n",
      "+-------+--------------------+--------------------+\n",
      "only showing top 5 rows\n",
      "\n"
     ]
    }
   ],
   "source": [
    "movies.show(5)"
   ]
  },
  {
   "cell_type": "code",
   "execution_count": 4,
   "metadata": {},
   "outputs": [
    {
     "name": "stdout",
     "output_type": "stream",
     "text": [
      "+------+-------+------+----------+\n",
      "|userId|movieId|rating| timestamp|\n",
      "+------+-------+------+----------+\n",
      "|     1|     31|   2.5|1260759144|\n",
      "|     1|   1029|   3.0|1260759179|\n",
      "|     1|   1061|   3.0|1260759182|\n",
      "|     1|   1129|   2.0|1260759185|\n",
      "|     1|   1172|   4.0|1260759205|\n",
      "+------+-------+------+----------+\n",
      "only showing top 5 rows\n",
      "\n"
     ]
    }
   ],
   "source": [
    "ratings.show(5)"
   ]
  },
  {
   "cell_type": "code",
   "execution_count": 5,
   "metadata": {},
   "outputs": [
    {
     "name": "stdout",
     "output_type": "stream",
     "text": [
      "+-------+-------+------+\n",
      "|movieId| imdbId|tmdbId|\n",
      "+-------+-------+------+\n",
      "|      1|0114709|   862|\n",
      "|      2|0113497|  8844|\n",
      "|      3|0113228| 15602|\n",
      "|      4|0114885| 31357|\n",
      "|      5|0113041| 11862|\n",
      "+-------+-------+------+\n",
      "only showing top 5 rows\n",
      "\n"
     ]
    }
   ],
   "source": [
    "links.show(5)"
   ]
  },
  {
   "cell_type": "code",
   "execution_count": 6,
   "metadata": {},
   "outputs": [
    {
     "name": "stdout",
     "output_type": "stream",
     "text": [
      "+------+-------+--------------------+----------+\n",
      "|userId|movieId|                 tag| timestamp|\n",
      "+------+-------+--------------------+----------+\n",
      "|    15|    339|sandra 'boring' b...|1138537770|\n",
      "|    15|   1955|             dentist|1193435061|\n",
      "|    15|   7478|            Cambodia|1170560997|\n",
      "|    15|  32892|             Russian|1170626366|\n",
      "|    15|  34162|         forgettable|1141391765|\n",
      "+------+-------+--------------------+----------+\n",
      "only showing top 5 rows\n",
      "\n"
     ]
    }
   ],
   "source": [
    "tags.show(5)"
   ]
  },
  {
   "cell_type": "markdown",
   "metadata": {},
   "source": [
    "Because the goal of this notebook is to predict ratings, I'll not explore \"movies\", \"links\" and \"tags\" much. But just out of curiosity, let's check how the movies distribute across various genres."
   ]
  },
  {
   "cell_type": "code",
   "execution_count": 7,
   "metadata": {},
   "outputs": [
    {
     "name": "stdout",
     "output_type": "stream",
     "text": [
      "+--------------------+-----+\n",
      "|              genres|count|\n",
      "+--------------------+-----+\n",
      "|               Drama| 1170|\n",
      "|              Comedy|  809|\n",
      "|        Comedy|Drama|  425|\n",
      "|         Documentary|  365|\n",
      "|       Drama|Romance|  356|\n",
      "|      Comedy|Romance|  341|\n",
      "|Comedy|Drama|Romance|  264|\n",
      "|              Horror|  183|\n",
      "|      Drama|Thriller|  172|\n",
      "|         Crime|Drama|  135|\n",
      "|Crime|Drama|Thriller|  116|\n",
      "|     Horror|Thriller|  112|\n",
      "|           Drama|War|  107|\n",
      "|        Comedy|Crime|   77|\n",
      "|            Thriller|   74|\n",
      "|       Action|Comedy|   67|\n",
      "|     Children|Comedy|   64|\n",
      "|     Action|Thriller|   57|\n",
      "|       Comedy|Horror|   57|\n",
      "|        Action|Drama|   53|\n",
      "+--------------------+-----+\n",
      "only showing top 20 rows\n",
      "\n"
     ]
    }
   ],
   "source": [
    "movies.groupby(\"genres\").count().orderBy(\"count\", ascending=False).show()"
   ]
  },
  {
   "cell_type": "markdown",
   "metadata": {},
   "source": [
    "It's not surprising that Drama and Comedy are the most dominant types. Many movies are labeled as multiple genres. It would be better if we make each distinct genre a column and count the number of movies that are labeled as each of them. However, this is out of the scope of this work. Below are some numbers for the rating data."
   ]
  },
  {
   "cell_type": "code",
   "execution_count": 8,
   "metadata": {},
   "outputs": [
    {
     "name": "stdout",
     "output_type": "stream",
     "text": [
      "Distinct values of ratings:\n",
      "[u'0.5', u'1.0', u'1.5', u'2.0', u'2.5', u'3.0', u'3.5', u'4.0', u'4.5', u'5.0']\n"
     ]
    }
   ],
   "source": [
    "print 'Distinct values of ratings:'\n",
    "print sorted(ratings.select('rating').distinct().rdd.map(lambda r: r[0]).collect())"
   ]
  },
  {
   "cell_type": "code",
   "execution_count": 9,
   "metadata": {},
   "outputs": [
    {
     "name": "stdout",
     "output_type": "stream",
     "text": [
      "For the users that rated movies and the movies that were rated:\n",
      "Minimum number of ratings per user is 20\n",
      "Minimum number of ratings per movie is 1\n"
     ]
    }
   ],
   "source": [
    "tmp1 = ratings.groupBy(\"userID\").count().select('count').rdd.min()[0]\n",
    "tmp2 = ratings.groupBy(\"movieId\").count().select('count').rdd.min()[0]\n",
    "print 'For the users that rated movies and the movies that were rated:'\n",
    "print 'Minimum number of ratings per user is {}'.format(tmp1)\n",
    "print 'Minimum number of ratings per movie is {}'.format(tmp2)"
   ]
  },
  {
   "cell_type": "code",
   "execution_count": 10,
   "metadata": {},
   "outputs": [
    {
     "name": "stdout",
     "output_type": "stream",
     "text": [
      "3063 out of 9066 movies are rated by only one user\n"
     ]
    }
   ],
   "source": [
    "tmp1 = ratings.groupBy(\"movieId\").count().withColumnRenamed(\"count\", \"rating count\")\\\n",
    ".groupBy(\"rating count\").count().orderBy('rating count').first()[1]\n",
    "# Or use pandas: tmp1 = sum(ratings.groupBy(\"movieId\").count().toPandas()['count'] == 1)\n",
    "tmp2 = ratings.select('movieId').distinct().count()\n",
    "print '{} out of {} movies are rated by only one user'.format(tmp1, tmp2)"
   ]
  },
  {
   "cell_type": "code",
   "execution_count": 11,
   "metadata": {},
   "outputs": [
    {
     "name": "stdout",
     "output_type": "stream",
     "text": [
      "Number of users: 671\n"
     ]
    }
   ],
   "source": [
    "print \"Number of users:\", ratings.select('userId').union(tags.select('userId')).distinct().count()"
   ]
  },
  {
   "cell_type": "code",
   "execution_count": 12,
   "metadata": {},
   "outputs": [
    {
     "name": "stdout",
     "output_type": "stream",
     "text": [
      "Number of users who rated movies: 671\n"
     ]
    }
   ],
   "source": [
    "print \"Number of users who rated movies:\", ratings.select('userId').distinct().count()"
   ]
  },
  {
   "cell_type": "code",
   "execution_count": 13,
   "metadata": {},
   "outputs": [
    {
     "name": "stdout",
     "output_type": "stream",
     "text": [
      "Number of movies: 9125\n"
     ]
    }
   ],
   "source": [
    "print \"Number of movies:\", ratings.select('movieId').union(tags.select('movieId')).distinct().count()"
   ]
  },
  {
   "cell_type": "code",
   "execution_count": 14,
   "metadata": {},
   "outputs": [
    {
     "name": "stdout",
     "output_type": "stream",
     "text": [
      "Number of rated movies: 9066\n"
     ]
    }
   ],
   "source": [
    "print \"Number of rated movies:\", ratings.select('movieId').distinct().count()"
   ]
  },
  {
   "cell_type": "markdown",
   "metadata": {},
   "source": [
    "## Process Data for Training\n",
    "We will use a dataframe-based API from [pyspark.ml](https://spark.apache.org/docs/latest/ml-collaborative-filtering.html) to predict the ratings. First, we need to convert the rating dataframe to the right form for the model."
   ]
  },
  {
   "cell_type": "code",
   "execution_count": 15,
   "metadata": {
    "collapsed": true
   },
   "outputs": [],
   "source": [
    "ratings = ratings.select(\"userId\", \"movieId\", \"rating\")"
   ]
  },
  {
   "cell_type": "code",
   "execution_count": 16,
   "metadata": {},
   "outputs": [
    {
     "name": "stdout",
     "output_type": "stream",
     "text": [
      "root\n",
      " |-- userId: string (nullable = true)\n",
      " |-- movieId: string (nullable = true)\n",
      " |-- rating: string (nullable = true)\n",
      "\n"
     ]
    }
   ],
   "source": [
    "# inspect the schema of the data frame\n",
    "ratings.printSchema()"
   ]
  },
  {
   "cell_type": "markdown",
   "metadata": {},
   "source": [
    "The userId and movieId have to be integers, and the rating has to be float numbers."
   ]
  },
  {
   "cell_type": "code",
   "execution_count": 17,
   "metadata": {
    "collapsed": true
   },
   "outputs": [],
   "source": [
    "# Below is a correct and efficient way to change the column types, but it somehow produced \n",
    "# errors on my laptop later when working on the dataframe due to some java issues...\n",
    "# So I used the withColumn() method instead\n",
    "\n",
    "\"\"\"\n",
    "from pyspark.sql.types import *\n",
    "\n",
    "schema = StructType([\n",
    "    StructField(\"userId\", IntegerType(), True),\n",
    "    StructField(\"movieId\", IntegerType(), True),\n",
    "    StructField(\"rating\", FloatType(), True)])\n",
    "\n",
    "df = spark.createDataFrame(ratings.rdd, schema)\n",
    "\"\"\"\n",
    "\n",
    "df = ratings.withColumn('userId', ratings['userId'].cast('int')).\\\n",
    "withColumn('movieId', ratings['movieId'].cast('int')).withColumn('rating', ratings['rating'].cast('float'))"
   ]
  },
  {
   "cell_type": "code",
   "execution_count": 18,
   "metadata": {},
   "outputs": [
    {
     "name": "stdout",
     "output_type": "stream",
     "text": [
      "root\n",
      " |-- userId: integer (nullable = true)\n",
      " |-- movieId: integer (nullable = true)\n",
      " |-- rating: float (nullable = true)\n",
      "\n"
     ]
    }
   ],
   "source": [
    "# inspect the schema again\n",
    "df.printSchema()"
   ]
  },
  {
   "cell_type": "markdown",
   "metadata": {},
   "source": [
    "I will split the data into training/validation/testing sets using a 60/20/20 split."
   ]
  },
  {
   "cell_type": "code",
   "execution_count": 19,
   "metadata": {
    "collapsed": true
   },
   "outputs": [],
   "source": [
    "train, validation, test = df.randomSplit([0.6,0.2,0.2], seed = 0)"
   ]
  },
  {
   "cell_type": "code",
   "execution_count": 20,
   "metadata": {},
   "outputs": [
    {
     "name": "stdout",
     "output_type": "stream",
     "text": [
      "The number of ratings in each set: 60004, 20027, 19973\n"
     ]
    }
   ],
   "source": [
    "print \"The number of ratings in each set: {}, {}, {}\".format(train.count(), validation.count(), test.count())"
   ]
  },
  {
   "cell_type": "markdown",
   "metadata": {},
   "source": [
    "## Benchmark\n",
    "\n",
    "Here I define a benchmark model which simply uses the mean rating of each movie (in the training set) as the prediction. We can later compare our model performance with this benchmark."
   ]
  },
  {
   "cell_type": "code",
   "execution_count": 21,
   "metadata": {},
   "outputs": [
    {
     "name": "stdout",
     "output_type": "stream",
     "text": [
      "+-------+------------------+\n",
      "|movieId|        prediction|\n",
      "+-------+------------------+\n",
      "|   1580|3.6327433628318584|\n",
      "|   3175|          3.515625|\n",
      "|   1088| 3.264705882352941|\n",
      "|   1645|             3.325|\n",
      "|   2366| 3.611111111111111|\n",
      "+-------+------------------+\n",
      "only showing top 5 rows\n",
      "\n"
     ]
    }
   ],
   "source": [
    "mean_rating = train.groupby('movieId').mean().select('movieId','avg(rating)')\n",
    "mean_rating = mean_rating.withColumnRenamed('avg(rating)','prediction')\n",
    "mean_rating.show(5)"
   ]
  },
  {
   "cell_type": "markdown",
   "metadata": {},
   "source": [
    "We can use SQL to combine the above predictions and the testing set dataframe."
   ]
  },
  {
   "cell_type": "code",
   "execution_count": 22,
   "metadata": {},
   "outputs": [
    {
     "name": "stdout",
     "output_type": "stream",
     "text": [
      "+------+-------+------+------------------+\n",
      "|userId|movieId|rating|        prediction|\n",
      "+------+-------+------+------------------+\n",
      "|     1|     31|   2.5| 3.185185185185185|\n",
      "|     1|   1129|   2.0|3.1666666666666665|\n",
      "|     1|   1263|   2.0|3.8636363636363638|\n",
      "|     2|     39|   5.0|3.5616438356164384|\n",
      "|     2|     47|   4.0| 4.025547445255475|\n",
      "+------+-------+------+------------------+\n",
      "only showing top 5 rows\n",
      "\n"
     ]
    }
   ],
   "source": [
    "test.createOrReplaceTempView(\"test\")\n",
    "mean_rating.createOrReplaceTempView(\"mean_rating\")\n",
    "\n",
    "sqlDF = spark.sql(\"select test.*, mean_rating.prediction \\\n",
    "                   from test join mean_rating \\\n",
    "                   on test.movieId = mean_rating.movieId\")\n",
    "sqlDF.show(5)"
   ]
  },
  {
   "cell_type": "markdown",
   "metadata": {},
   "source": [
    "To evaluate the model performance on the testing set, we will use root-mean-square error (RMSE) as the metric."
   ]
  },
  {
   "cell_type": "code",
   "execution_count": 23,
   "metadata": {
    "collapsed": true
   },
   "outputs": [],
   "source": [
    "# Define a function to calculate RMSE\n",
    "\n",
    "from pyspark.ml.evaluation import RegressionEvaluator\n",
    "evaluator = RegressionEvaluator(metricName=\"rmse\", labelCol=\"rating\",\n",
    "                                predictionCol=\"prediction\")\n",
    "\n",
    "def RMSE(predictions):\n",
    "    return evaluator.evaluate(predictions)"
   ]
  },
  {
   "cell_type": "code",
   "execution_count": 24,
   "metadata": {},
   "outputs": [
    {
     "name": "stdout",
     "output_type": "stream",
     "text": [
      "Using the mean rating of each movie as the prediction, the testing RMSE is 0.999525001621\n"
     ]
    }
   ],
   "source": [
    "print 'Using the mean rating of each movie as the prediction, the testing RMSE is ' + str(RMSE(sqlDF))"
   ]
  },
  {
   "cell_type": "markdown",
   "metadata": {},
   "source": [
    "## Model Selection and Evaluation\n",
    "\n",
    "Now we can run the ALS algorithm. Using this model, we can do a grid search to find the optimal hyperparameters. We will use the RMSE of the validation set to evaluate each model."
   ]
  },
  {
   "cell_type": "code",
   "execution_count": 25,
   "metadata": {
    "collapsed": true
   },
   "outputs": [],
   "source": [
    "# Define a function to perform grid search and find the best ALS model\n",
    "# based on the validation RMSE\n",
    "\n",
    "from pyspark.ml.recommendation import ALS\n",
    "\n",
    "def GridSearch(train, valid, num_iterations, reg_param, n_factors):\n",
    "    min_rmse = float('inf')\n",
    "    best_n = -1\n",
    "    best_reg = 0\n",
    "    best_model = None\n",
    "    for n in n_factors:\n",
    "        for reg in reg_param:\n",
    "            als = ALS(rank = n, \n",
    "                      maxIter = num_iterations, \n",
    "                      seed = 0, \n",
    "                      regParam = reg,\n",
    "                      userCol=\"userId\", \n",
    "                      itemCol=\"movieId\", \n",
    "                      ratingCol=\"rating\", \n",
    "                      coldStartStrategy=\"drop\")            \n",
    "            model = als.fit(train)\n",
    "            predictions = model.transform(valid)\n",
    "            rmse = RMSE(predictions)     \n",
    "            print '{} latent factors and regularization = {}: validation RMSE is {}'.format(n, reg, rmse)\n",
    "            if rmse < min_rmse:\n",
    "                min_rmse = rmse\n",
    "                best_n = n\n",
    "                best_reg = reg\n",
    "                best_model = model\n",
    "                \n",
    "    pred = best_model.transform(train)\n",
    "    train_rmse = RMSE(pred)\n",
    "    print '\\nThe best model has {} latent factors and regularization = {}:'.format(best_n, best_reg)\n",
    "    print 'traning RMSE is {}; validation RMSE is {}'.format(train_rmse, min_rmse)\n",
    "    return best_model"
   ]
  },
  {
   "cell_type": "code",
   "execution_count": 26,
   "metadata": {
    "scrolled": true
   },
   "outputs": [
    {
     "name": "stdout",
     "output_type": "stream",
     "text": [
      "6 latent factors and regularization = 0.05: validation RMSE is 1.02203363995\n",
      "6 latent factors and regularization = 0.1: validation RMSE is 0.954438052853\n",
      "6 latent factors and regularization = 0.2: validation RMSE is 0.924770729779\n",
      "6 latent factors and regularization = 0.4: validation RMSE is 0.985705320681\n",
      "6 latent factors and regularization = 0.8: validation RMSE is 1.19828898699\n",
      "8 latent factors and regularization = 0.05: validation RMSE is 1.02972976705\n",
      "8 latent factors and regularization = 0.1: validation RMSE is 0.951760819297\n",
      "8 latent factors and regularization = 0.2: validation RMSE is 0.922537908145\n",
      "8 latent factors and regularization = 0.4: validation RMSE is 0.985313259158\n",
      "8 latent factors and regularization = 0.8: validation RMSE is 1.19829732375\n",
      "10 latent factors and regularization = 0.05: validation RMSE is 1.03636326726\n",
      "10 latent factors and regularization = 0.1: validation RMSE is 0.950379421009\n",
      "10 latent factors and regularization = 0.2: validation RMSE is 0.923438930878\n",
      "10 latent factors and regularization = 0.4: validation RMSE is 0.986343222497\n",
      "10 latent factors and regularization = 0.8: validation RMSE is 1.1982784026\n",
      "12 latent factors and regularization = 0.05: validation RMSE is 1.0515627774\n",
      "12 latent factors and regularization = 0.1: validation RMSE is 0.952025747054\n",
      "12 latent factors and regularization = 0.2: validation RMSE is 0.924448021229\n",
      "12 latent factors and regularization = 0.4: validation RMSE is 0.987186223587\n",
      "12 latent factors and regularization = 0.8: validation RMSE is 1.19828044842\n",
      "\n",
      "The best model has 8 latent factors and regularization = 0.2:\n",
      "traning RMSE is 0.690982221977; validation RMSE is 0.922537908145\n",
      "Total Runtime: 163.99 seconds\n"
     ]
    }
   ],
   "source": [
    "num_iterations = 10\n",
    "ranks = [6, 8, 10, 12]\n",
    "reg_params = [0.05, 0.1, 0.2, 0.4, 0.8]\n",
    "\n",
    "start_time = time.time()\n",
    "final_model = GridSearch(train, validation, num_iterations, reg_params, ranks)\n",
    "print 'Total Runtime: {:.2f} seconds'.format(time.time() - start_time)"
   ]
  },
  {
   "cell_type": "markdown",
   "metadata": {},
   "source": [
    "The runtime is about 160 seconds. We will use an RDD-based approach in [Spark_MovieLens_RDD.ipynb](Spark_MovieLens_RDD.ipynb) and see if the runtime is different. So the model with 8 latent factors and lambda = 0.2 yields the best result. Let's do a second grid search around these values with more iterations (15) for each model."
   ]
  },
  {
   "cell_type": "code",
   "execution_count": 27,
   "metadata": {},
   "outputs": [
    {
     "name": "stdout",
     "output_type": "stream",
     "text": [
      "7 latent factors and regularization = 0.1: validation RMSE is 0.95097372416\n",
      "7 latent factors and regularization = 0.2: validation RMSE is 0.925118410924\n",
      "7 latent factors and regularization = 0.3: validation RMSE is 0.94787509625\n",
      "8 latent factors and regularization = 0.1: validation RMSE is 0.950515198158\n",
      "8 latent factors and regularization = 0.2: validation RMSE is 0.923712922344\n",
      "8 latent factors and regularization = 0.3: validation RMSE is 0.947078377034\n",
      "9 latent factors and regularization = 0.1: validation RMSE is 0.950582803733\n",
      "9 latent factors and regularization = 0.2: validation RMSE is 0.923303643645\n",
      "9 latent factors and regularization = 0.3: validation RMSE is 0.947200079093\n",
      "\n",
      "The best model has 9 latent factors and regularization = 0.2:\n",
      "traning RMSE is 0.686163366237; validation RMSE is 0.923303643645\n"
     ]
    }
   ],
   "source": [
    "num_iterations = 15\n",
    "ranks = [7, 8, 9]\n",
    "reg_params = [0.1, 0.2, 0.3]\n",
    "\n",
    "final_model = GridSearch(train, validation, num_iterations, reg_params, ranks)"
   ]
  },
  {
   "cell_type": "markdown",
   "metadata": {},
   "source": [
    "So the model with 9 latent factors and lambda = 0.2 yields the best result."
   ]
  },
  {
   "cell_type": "markdown",
   "metadata": {},
   "source": [
    "We can see the testing error is consistent with the validation error:"
   ]
  },
  {
   "cell_type": "code",
   "execution_count": 28,
   "metadata": {},
   "outputs": [
    {
     "name": "stdout",
     "output_type": "stream",
     "text": [
      "The testing RMSE is 0.922537488773\n"
     ]
    }
   ],
   "source": [
    "pred_test = final_model.transform(test)\n",
    "print 'The testing RMSE is ' + str(RMSE(pred_test))"
   ]
  },
  {
   "cell_type": "markdown",
   "metadata": {},
   "source": [
    "Although the RMSE dosen't look like a big improvement from the benchmark (RMSE ~ 1.0), this is pretty much the best we can achieve. You can check out some of the results using other models [here](http://surpriselib.com/)."
   ]
  },
  {
   "cell_type": "markdown",
   "metadata": {},
   "source": [
    "## Visualization\n",
    "\n",
    "We can make plots to compare the true and predicted ratings for the training and testing sets."
   ]
  },
  {
   "cell_type": "code",
   "execution_count": 29,
   "metadata": {},
   "outputs": [
    {
     "data": {
      "image/png": "[encoded data removed]",
      "text/plain": [
       "<matplotlib.figure.Figure at 0x108f37450>"
      ]
     },
     "metadata": {},
     "output_type": "display_data"
    }
   ],
   "source": [
    "pred_train = final_model.transform(train)\n",
    "df = pred_train.toPandas()\n",
    "x = np.arange(0.5, 5.1, 0.5) # To draw the red one-to-one line below\n",
    "\n",
    "fig = plt.figure(figsize=(10,8))\n",
    "plt.tick_params(labelsize=15)\n",
    "plt.scatter(df.rating, df.prediction, s = 10, alpha = 0.2)\n",
    "plt.plot(x, x, c = 'r')\n",
    "plt.xlabel('rating', fontsize=20)\n",
    "plt.ylabel('prediction', fontsize=20)\n",
    "plt.title('Training Set', fontsize=20)\n",
    "plt.show()"
   ]
  },
  {
   "cell_type": "code",
   "execution_count": 30,
   "metadata": {},
   "outputs": [
    {
     "data": {
      "image/png": "[encoded data removed]",
      "text/plain": [
       "<matplotlib.figure.Figure at 0x108f71190>"
      ]
     },
     "metadata": {},
     "output_type": "display_data"
    }
   ],
   "source": [
    "df = pred_test.toPandas()\n",
    "fig = plt.figure(figsize=(10,8))\n",
    "plt.tick_params(labelsize=15)\n",
    "plt.scatter(df.rating, df.prediction, s = 10, alpha = 0.2)\n",
    "plt.plot(x, x, c = 'r')\n",
    "plt.xlabel('rating', fontsize=20)\n",
    "plt.ylabel('prediction', fontsize=20)\n",
    "plt.title('Testing Set', fontsize=20)\n",
    "plt.show()"
   ]
  },
  {
   "cell_type": "markdown",
   "metadata": {
    "collapsed": true
   },
   "source": [
    "A model with more latent factors can definitely fit the training data better, but it won't generalize wlll on the testing data."
   ]
  },
  {
   "cell_type": "code",
   "execution_count": null,
   "metadata": {
    "collapsed": true
   },
   "outputs": [],
   "source": []
  }
 ],
 "metadata": {
  "kernelspec": {
   "display_name": "Python 2",
   "language": "python",
   "name": "python2"
  },
  "language_info": {
   "codemirror_mode": {
    "name": "ipython",
    "version": 2
   },
   "file_extension": ".py",
   "mimetype": "text/x-python",
   "name": "python",
   "nbconvert_exporter": "python",
   "pygments_lexer": "ipython2",
   "version": "2.7.13"
  }
 },
 "nbformat": 4,
 "nbformat_minor": 2
}
